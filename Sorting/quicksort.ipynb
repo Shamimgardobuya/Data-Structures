{
 "cells": [
  {
   "cell_type": "code",
   "execution_count": 1,
   "source": [
    "'''Find a “pivot” item in the array.\n",
    "This item is the basis for comparison for a single round.\n",
    "Start a pointer (the left pointer) at the first item in the array.\n",
    "Start a pointer (the right pointer) at the last item in the array.\n",
    "While the value at the left pointer in the array is less than the pivot value, move the left pointer to the right (add 1). Continue until the value at the left pointer is greater than or equal to the pivot value.\n",
    "While the value at the right pointer in the array is greater than the pivot value, move the right pointer to the left (subtract 1). Continue until the value at the right pointer is less than or equal to the pivot value.\n",
    "If the left pointer is less than or equal to the right pointer, then swap the values at these locations in the array.\n",
    "Move the left pointer to the right by one and the right pointer to the left by one.\n",
    "If the left pointer and right pointer dont meet, go to step 1.'''\n",
    "\n",
    "\n",
    "def quicksort(my_array,left_index,right_index):\n",
    "     if(left_index<right_index):\n",
    "          pivot_index = partition(my_array,left_index,right_index)\n",
    "          #sort left sub_array\n",
    "          quicksort(my_array,left_index,pivot_index)\n",
    "          #sort rigth sub_array\n",
    "          quicksort(my_array,pivot_index+1,right_index)\n",
    "\n",
    "def partition(my_arr,left_index,right_index):\n",
    "    pivot_index = (left_index + right_index) /2\n",
    "    pivot_value = my_arr[int(pivot_index)]\n",
    "    # left_pointer = my_arr[0]\n",
    "    # left_index = 0\n",
    "    # right_index = len(my_arr) - 1\n",
    "    # right_pointer = my_arr[-1]   \n",
    "    while (True):\n",
    "            while (my_arr[left_index] < pivot_value):#is the block supposed to be within the loop\n",
    "                left_index +=1  #are we increamenting the index or value\n",
    "            while (my_arr[right_index] > pivot_value):\n",
    "                right_index -=1\n",
    "            if (left_index >=right_index):return right_index\n",
    "                #Move the left pointer to the right by one and the right pointer to the left by one.\n",
    "            #swapping time\n",
    "            temporary_start = my_arr[left_index]\n",
    "            my_arr[left_index] = my_arr[right_index]\n",
    "            my_arr[right_index] = temporary_start\n",
    "            # elif left_pointer != right_pointer:\n",
    "            #    return quicksort(my_arr)\n",
    "if __name__ == '__main__':\n",
    "    array = [12, 11, 15, 10, 9, 1, 2, 3, 13, 14, 4, 5, 6, 7, 8]\n",
    "    quicksort(array, 0, len(array) - 1)\n",
    "    print(array)"
   ],
   "outputs": [
    {
     "output_type": "stream",
     "name": "stdout",
     "text": [
      "[1, 2, 3, 4, 5, 6, 7, 8, 9, 10, 11, 12, 13, 14, 15]\n"
     ]
    }
   ],
   "metadata": {}
  },
  {
   "cell_type": "code",
   "execution_count": 2,
   "source": [
    "array = [5,6,0,1,5,6,3]\n",
    "def quicksort(array):\n",
    "    if(len(array)==0):\n",
    "        return []\n",
    "    left_elements = []\n",
    "    right_elements = []\n",
    "    pivot = array[-1]\n",
    "    for i in array:\n",
    "        if array[i] < pivot:\n",
    "            left_elements.append(array[i])\n",
    "        elif array[i] > pivot:\n",
    "            right_elements.append(array[i])\n",
    "    return quicksort(left_elements.append(pivot))+quicksort(right_elements)\n",
    "print(quicksort(array))\n",
    ""
   ],
   "outputs": [
    {
     "output_type": "error",
     "ename": "TypeError",
     "evalue": "object of type 'NoneType' has no len()",
     "traceback": [
      "\u001b[0;31m---------------------------------------------------------------------------\u001b[0m",
      "\u001b[0;31mTypeError\u001b[0m                                 Traceback (most recent call last)",
      "Cell \u001b[0;32mIn[2], line 14\u001b[0m\n\u001b[1;32m     12\u001b[0m             right_elements\u001b[39m.\u001b[39mappend(array[i])\n\u001b[1;32m     13\u001b[0m     \u001b[39mreturn\u001b[39;00m quicksort(left_elements\u001b[39m.\u001b[39mappend(pivot))\u001b[39m+\u001b[39mquicksort(right_elements)\n\u001b[0;32m---> 14\u001b[0m \u001b[39mprint\u001b[39m(quicksort(array))\n",
      "Cell \u001b[0;32mIn[2], line 13\u001b[0m, in \u001b[0;36mquicksort\u001b[0;34m(array)\u001b[0m\n\u001b[1;32m     11\u001b[0m     \u001b[39melif\u001b[39;00m array[i] \u001b[39m>\u001b[39m pivot:\n\u001b[1;32m     12\u001b[0m         right_elements\u001b[39m.\u001b[39mappend(array[i])\n\u001b[0;32m---> 13\u001b[0m \u001b[39mreturn\u001b[39;00m quicksort(left_elements\u001b[39m.\u001b[39;49mappend(pivot))\u001b[39m+\u001b[39mquicksort(right_elements)\n",
      "Cell \u001b[0;32mIn[2], line 3\u001b[0m, in \u001b[0;36mquicksort\u001b[0;34m(array)\u001b[0m\n\u001b[1;32m      2\u001b[0m \u001b[39mdef\u001b[39;00m \u001b[39mquicksort\u001b[39m(array):\n\u001b[0;32m----> 3\u001b[0m     \u001b[39mif\u001b[39;00m(\u001b[39mlen\u001b[39;49m(array)\u001b[39m==\u001b[39m\u001b[39m0\u001b[39m):\n\u001b[1;32m      4\u001b[0m         \u001b[39mreturn\u001b[39;00m []\n\u001b[1;32m      5\u001b[0m     left_elements \u001b[39m=\u001b[39m []\n",
      "\u001b[0;31mTypeError\u001b[0m: object of type 'NoneType' has no len()"
     ]
    }
   ],
   "metadata": {}
  },
  {
   "cell_type": "code",
   "execution_count": 3,
   "source": [
    "global array\n",
    "array = [5,6,0,1,5,6,3]\n",
    "def quicksort():\n",
    "    if(len(array)==0):\n",
    "        return []\n",
    "    left_elements = []\n",
    "    right_elements = []\n",
    "    pivot = array[-1]\n",
    "    for i in array:\n",
    "        if array[i] < pivot:\n",
    "            left_elements.append(array[i])\n",
    "        elif array[i] > pivot:\n",
    "            right_elements.append(array[i])\n",
    "    return quicksort(left_elements.append(pivot))+quicksort(right_elements)\n",
    "print(quicksort())\n",
    ""
   ],
   "outputs": [
    {
     "output_type": "error",
     "ename": "TypeError",
     "evalue": "quicksort() takes 0 positional arguments but 1 was given",
     "traceback": [
      "\u001b[0;31m---------------------------------------------------------------------------\u001b[0m",
      "\u001b[0;31mTypeError\u001b[0m                                 Traceback (most recent call last)",
      "Cell \u001b[0;32mIn[3], line 15\u001b[0m\n\u001b[1;32m     13\u001b[0m             right_elements\u001b[39m.\u001b[39mappend(array[i])\n\u001b[1;32m     14\u001b[0m     \u001b[39mreturn\u001b[39;00m quicksort(left_elements\u001b[39m.\u001b[39mappend(pivot))\u001b[39m+\u001b[39mquicksort(right_elements)\n\u001b[0;32m---> 15\u001b[0m \u001b[39mprint\u001b[39m(quicksort())\n",
      "Cell \u001b[0;32mIn[3], line 14\u001b[0m, in \u001b[0;36mquicksort\u001b[0;34m()\u001b[0m\n\u001b[1;32m     12\u001b[0m     \u001b[39melif\u001b[39;00m array[i] \u001b[39m>\u001b[39m pivot:\n\u001b[1;32m     13\u001b[0m         right_elements\u001b[39m.\u001b[39mappend(array[i])\n\u001b[0;32m---> 14\u001b[0m \u001b[39mreturn\u001b[39;00m quicksort(left_elements\u001b[39m.\u001b[39;49mappend(pivot))\u001b[39m+\u001b[39mquicksort(right_elements)\n",
      "\u001b[0;31mTypeError\u001b[0m: quicksort() takes 0 positional arguments but 1 was given"
     ]
    }
   ],
   "metadata": {}
  },
  {
   "cell_type": "code",
   "execution_count": 4,
   "source": [
    "# global array\n",
    "array = [5,6,0,1,5,6,3]\n",
    "def quicksort(array):\n",
    "    if(len(array)==0):\n",
    "        return []\n",
    "    left_elements = []\n",
    "    right_elements = []\n",
    "    pivot = array[-1]\n",
    "    for i in array:\n",
    "        if array[i] < pivot:\n",
    "            left_elements.append(array[i])\n",
    "        elif array[i] > pivot:\n",
    "            right_elements.append(array[i])\n",
    "    return quicksort(left_elements.append(pivot))+quicksort(right_elements)\n",
    "print(quicksort(array))\n",
    ""
   ],
   "outputs": [
    {
     "output_type": "error",
     "ename": "TypeError",
     "evalue": "object of type 'NoneType' has no len()",
     "traceback": [
      "\u001b[0;31m---------------------------------------------------------------------------\u001b[0m",
      "\u001b[0;31mTypeError\u001b[0m                                 Traceback (most recent call last)",
      "Cell \u001b[0;32mIn[4], line 15\u001b[0m\n\u001b[1;32m     13\u001b[0m             right_elements\u001b[39m.\u001b[39mappend(array[i])\n\u001b[1;32m     14\u001b[0m     \u001b[39mreturn\u001b[39;00m quicksort(left_elements\u001b[39m.\u001b[39mappend(pivot))\u001b[39m+\u001b[39mquicksort(right_elements)\n\u001b[0;32m---> 15\u001b[0m \u001b[39mprint\u001b[39m(quicksort(array))\n",
      "Cell \u001b[0;32mIn[4], line 14\u001b[0m, in \u001b[0;36mquicksort\u001b[0;34m(array)\u001b[0m\n\u001b[1;32m     12\u001b[0m     \u001b[39melif\u001b[39;00m array[i] \u001b[39m>\u001b[39m pivot:\n\u001b[1;32m     13\u001b[0m         right_elements\u001b[39m.\u001b[39mappend(array[i])\n\u001b[0;32m---> 14\u001b[0m \u001b[39mreturn\u001b[39;00m quicksort(left_elements\u001b[39m.\u001b[39;49mappend(pivot))\u001b[39m+\u001b[39mquicksort(right_elements)\n",
      "Cell \u001b[0;32mIn[4], line 4\u001b[0m, in \u001b[0;36mquicksort\u001b[0;34m(array)\u001b[0m\n\u001b[1;32m      3\u001b[0m \u001b[39mdef\u001b[39;00m \u001b[39mquicksort\u001b[39m(array):\n\u001b[0;32m----> 4\u001b[0m     \u001b[39mif\u001b[39;00m(\u001b[39mlen\u001b[39;49m(array)\u001b[39m==\u001b[39m\u001b[39m0\u001b[39m):\n\u001b[1;32m      5\u001b[0m         \u001b[39mreturn\u001b[39;00m []\n\u001b[1;32m      6\u001b[0m     left_elements \u001b[39m=\u001b[39m []\n",
      "\u001b[0;31mTypeError\u001b[0m: object of type 'NoneType' has no len()"
     ]
    }
   ],
   "metadata": {}
  },
  {
   "cell_type": "code",
   "execution_count": 5,
   "source": [
    "# global array\n",
    "array = [5,6,0,1,5,6,3]\n",
    "def quicksort(array):\n",
    "    if(len(array)==0):\n",
    "        return []\n",
    "    left_elements = []\n",
    "    right_elements = []\n",
    "    pivot = array[-1]\n",
    "    for i in array:\n",
    "        if array[i] < pivot:\n",
    "            left_elements.append(array[i])\n",
    "        elif array[i] > pivot:\n",
    "            right_elements.append(array[i])\n",
    "    return quicksort(left_elements.append(pivot))+quicksort(right_elements)\n",
    "print(quicksort( [5,6,0,1,5,6,3]))\n",
    ""
   ],
   "outputs": [
    {
     "output_type": "error",
     "ename": "TypeError",
     "evalue": "object of type 'NoneType' has no len()",
     "traceback": [
      "\u001b[0;31m---------------------------------------------------------------------------\u001b[0m",
      "\u001b[0;31mTypeError\u001b[0m                                 Traceback (most recent call last)",
      "Cell \u001b[0;32mIn[5], line 15\u001b[0m\n\u001b[1;32m     13\u001b[0m             right_elements\u001b[39m.\u001b[39mappend(array[i])\n\u001b[1;32m     14\u001b[0m     \u001b[39mreturn\u001b[39;00m quicksort(left_elements\u001b[39m.\u001b[39mappend(pivot))\u001b[39m+\u001b[39mquicksort(right_elements)\n\u001b[0;32m---> 15\u001b[0m \u001b[39mprint\u001b[39m(quicksort( [\u001b[39m5\u001b[39;49m,\u001b[39m6\u001b[39;49m,\u001b[39m0\u001b[39;49m,\u001b[39m1\u001b[39;49m,\u001b[39m5\u001b[39;49m,\u001b[39m6\u001b[39;49m,\u001b[39m3\u001b[39;49m]))\n",
      "Cell \u001b[0;32mIn[5], line 14\u001b[0m, in \u001b[0;36mquicksort\u001b[0;34m(array)\u001b[0m\n\u001b[1;32m     12\u001b[0m     \u001b[39melif\u001b[39;00m array[i] \u001b[39m>\u001b[39m pivot:\n\u001b[1;32m     13\u001b[0m         right_elements\u001b[39m.\u001b[39mappend(array[i])\n\u001b[0;32m---> 14\u001b[0m \u001b[39mreturn\u001b[39;00m quicksort(left_elements\u001b[39m.\u001b[39;49mappend(pivot))\u001b[39m+\u001b[39mquicksort(right_elements)\n",
      "Cell \u001b[0;32mIn[5], line 4\u001b[0m, in \u001b[0;36mquicksort\u001b[0;34m(array)\u001b[0m\n\u001b[1;32m      3\u001b[0m \u001b[39mdef\u001b[39;00m \u001b[39mquicksort\u001b[39m(array):\n\u001b[0;32m----> 4\u001b[0m     \u001b[39mif\u001b[39;00m(\u001b[39mlen\u001b[39;49m(array)\u001b[39m==\u001b[39m\u001b[39m0\u001b[39m):\n\u001b[1;32m      5\u001b[0m         \u001b[39mreturn\u001b[39;00m []\n\u001b[1;32m      6\u001b[0m     left_elements \u001b[39m=\u001b[39m []\n",
      "\u001b[0;31mTypeError\u001b[0m: object of type 'NoneType' has no len()"
     ]
    }
   ],
   "metadata": {}
  },
  {
   "cell_type": "code",
   "execution_count": 6,
   "source": [
    "# '''Find a “pivot” item in the array.\n",
    "# This item is the basis for comparison for a single round.\n",
    "# Start a pointer (the left pointer) at the first item in the array.\n",
    "# Start a pointer (the right pointer) at the last item in the array.\n",
    "# While the value at the left pointer in the array is less than the pivot value, move the left pointer to the right (add 1). Continue until the value at the left pointer is greater than or equal to the pivot value.\n",
    "# While the value at the right pointer in the array is greater than the pivot value, move the right pointer to the left (subtract 1). Continue until the value at the right pointer is less than or equal to the pivot value.\n",
    "# If the left pointer is less than or equal to the right pointer, then swap the values at these locations in the array.\n",
    "# Move the left pointer to the right by one and the right pointer to the left by one.\n",
    "# If the left pointer and right pointer dont meet, go to step 1.'''\n",
    "\n",
    "\n",
    "# def quicksort(my_array,left_index,right_index):\n",
    "#      if(left_index<right_index):\n",
    "#           #calculate pivot index\n",
    "#           pivot_index = partition(my_array,left_index,right_index)\n",
    "#           #sort left sub_array\n",
    "#           quicksort(my_array,left_index,pivot_index)\n",
    "#           #sort rigth sub_array\n",
    "#           quicksort(my_array,pivot_index+1,right_index)\n",
    "\n",
    "# def partition(my_arr,left_index,right_index):\n",
    "#     pivot_index = (left_index + right_index) /2\n",
    "#     pivot_value = my_arr[int(pivot_index)] #pivot\n",
    "#     # left_index - pointer  at the first item in the array\n",
    "#     # right_index = pointer at the last item in the array.\n",
    "#     while (True):\n",
    "#             while (my_arr[left_index] < pivot_value):# block supposed to be within the loop\n",
    "#                 left_index +=1  #increamenting the index\n",
    "#             while (my_arr[right_index] > pivot_value): #novement backwards\n",
    "#                 right_index -=1\n",
    "#             if (left_index >=right_index):return right_index\n",
    "#                 #Move the left pointer to the right by one and the right pointer to the left by one.\n",
    "#             #swapping time for values at right and left index\n",
    "#             temporary_start = my_arr[left_index]\n",
    "#             my_arr[left_index] = my_arr[right_index]\n",
    "#             my_arr[right_index] = temporary_start\n",
    "#             # elif left_pointer != right_pointer:\n",
    "#             #    return quicksort(my_arr)\n",
    "# if __name__ == '__main__':\n",
    "#     array = [12, 11, 15, 10, 9, 1, 2, 3, 13, 14, 4, 5, 6, 7, 8]\n",
    "#     quicksort(array, 0, len(array) - 1)\n",
    "#     print(array)\n",
    "\n",
    "\n",
    "array = [5,6,0,1,5,6,3]\n",
    "def quicksort(array):\n",
    "    if(len(array)==0):\n",
    "        return []\n",
    "    left_elements = []\n",
    "    right_elements = []\n",
    "    pivot = array[-1]\n",
    "    for i in array:\n",
    "        if array[i] < pivot:\n",
    "            left_elements.append(array[i])\n",
    "        elif array[i] > pivot:\n",
    "            right_elements.append(array[i])\n",
    "    return quicksort(left_elements.append(pivot))+quicksort(right_elements)\n",
    "print(quicksort( [5,6,0,1,5,6,3]))"
   ],
   "outputs": [
    {
     "output_type": "error",
     "ename": "TypeError",
     "evalue": "object of type 'NoneType' has no len()",
     "traceback": [
      "\u001b[0;31m---------------------------------------------------------------------------\u001b[0m",
      "\u001b[0;31mTypeError\u001b[0m                                 Traceback (most recent call last)",
      "\u001b[1;32m/home/shamim/Documents/Linkedlist/Sorting/quicksort.py\u001b[0m in \u001b[0;36mline 58\n\u001b[1;32m     <a href='file:///home/shamim/Documents/Linkedlist/Sorting/quicksort.py?line=55'>56</a>\u001b[0m             right_elements\u001b[39m.\u001b[39mappend(array[i])\n\u001b[1;32m     <a href='file:///home/shamim/Documents/Linkedlist/Sorting/quicksort.py?line=56'>57</a>\u001b[0m     \u001b[39mreturn\u001b[39;00m quicksort(left_elements\u001b[39m.\u001b[39mappend(pivot))\u001b[39m+\u001b[39mquicksort(right_elements)\n\u001b[0;32m---> <a href='file:///home/shamim/Documents/Linkedlist/Sorting/quicksort.py?line=57'>58</a>\u001b[0m \u001b[39mprint\u001b[39m(quicksort( [\u001b[39m5\u001b[39;49m,\u001b[39m6\u001b[39;49m,\u001b[39m0\u001b[39;49m,\u001b[39m1\u001b[39;49m,\u001b[39m5\u001b[39;49m,\u001b[39m6\u001b[39;49m,\u001b[39m3\u001b[39;49m]))\n",
      "\u001b[1;32m/home/shamim/Documents/Linkedlist/Sorting/quicksort.py\u001b[0m in \u001b[0;36mline 57\u001b[0m, in \u001b[0;36mquicksort\u001b[0;34m(array)\n\u001b[1;32m     <a href='file:///home/shamim/Documents/Linkedlist/Sorting/quicksort.py?line=54'>55</a>\u001b[0m     \u001b[39melif\u001b[39;00m array[i] \u001b[39m>\u001b[39m pivot:\n\u001b[1;32m     <a href='file:///home/shamim/Documents/Linkedlist/Sorting/quicksort.py?line=55'>56</a>\u001b[0m         right_elements\u001b[39m.\u001b[39mappend(array[i])\n\u001b[0;32m---> <a href='file:///home/shamim/Documents/Linkedlist/Sorting/quicksort.py?line=56'>57</a>\u001b[0m \u001b[39mreturn\u001b[39;00m quicksort(left_elements\u001b[39m.\u001b[39;49mappend(pivot))\u001b[39m+\u001b[39mquicksort(right_elements)\n",
      "\u001b[1;32m/home/shamim/Documents/Linkedlist/Sorting/quicksort.py\u001b[0m in \u001b[0;36mline 47\u001b[0m, in \u001b[0;36mquicksort\u001b[0;34m(array)\n\u001b[1;32m     <a href='file:///home/shamim/Documents/Linkedlist/Sorting/quicksort.py?line=45'>46</a>\u001b[0m \u001b[39mdef\u001b[39;00m \u001b[39mquicksort\u001b[39m(array):\n\u001b[0;32m---> <a href='file:///home/shamim/Documents/Linkedlist/Sorting/quicksort.py?line=46'>47</a>\u001b[0m     \u001b[39mif\u001b[39;00m(\u001b[39mlen\u001b[39;49m(array)\u001b[39m==\u001b[39m\u001b[39m0\u001b[39m):\n\u001b[1;32m     <a href='file:///home/shamim/Documents/Linkedlist/Sorting/quicksort.py?line=47'>48</a>\u001b[0m         \u001b[39mreturn\u001b[39;00m []\n\u001b[1;32m     <a href='file:///home/shamim/Documents/Linkedlist/Sorting/quicksort.py?line=48'>49</a>\u001b[0m     left_elements \u001b[39m=\u001b[39m []\n",
      "\u001b[0;31mTypeError\u001b[0m: object of type 'NoneType' has no len()"
     ]
    }
   ],
   "metadata": {}
  },
  {
   "cell_type": "code",
   "execution_count": 7,
   "source": [
    "# '''Find a “pivot” item in the array.\n",
    "# This item is the basis for comparison for a single round.\n",
    "# Start a pointer (the left pointer) at the first item in the array.\n",
    "# Start a pointer (the right pointer) at the last item in the array.\n",
    "# While the value at the left pointer in the array is less than the pivot value, move the left pointer to the right (add 1). Continue until the value at the left pointer is greater than or equal to the pivot value.\n",
    "# While the value at the right pointer in the array is greater than the pivot value, move the right pointer to the left (subtract 1). Continue until the value at the right pointer is less than or equal to the pivot value.\n",
    "# If the left pointer is less than or equal to the right pointer, then swap the values at these locations in the array.\n",
    "# Move the left pointer to the right by one and the right pointer to the left by one.\n",
    "# If the left pointer and right pointer dont meet, go to step 1.'''\n",
    "\n",
    "\n",
    "# def quicksort(my_array,left_index,right_index):\n",
    "#      if(left_index<right_index):\n",
    "#           #calculate pivot index\n",
    "#           pivot_index = partition(my_array,left_index,right_index)\n",
    "#           #sort left sub_array\n",
    "#           quicksort(my_array,left_index,pivot_index)\n",
    "#           #sort rigth sub_array\n",
    "#           quicksort(my_array,pivot_index+1,right_index)\n",
    "\n",
    "# def partition(my_arr,left_index,right_index):\n",
    "#     pivot_index = (left_index + right_index) /2\n",
    "#     pivot_value = my_arr[int(pivot_index)] #pivot\n",
    "#     # left_index - pointer  at the first item in the array\n",
    "#     # right_index = pointer at the last item in the array.\n",
    "#     while (True):\n",
    "#             while (my_arr[left_index] < pivot_value):# block supposed to be within the loop\n",
    "#                 left_index +=1  #increamenting the index\n",
    "#             while (my_arr[right_index] > pivot_value): #novement backwards\n",
    "#                 right_index -=1\n",
    "#             if (left_index >=right_index):return right_index\n",
    "#                 #Move the left pointer to the right by one and the right pointer to the left by one.\n",
    "#             #swapping time for values at right and left index\n",
    "#             temporary_start = my_arr[left_index]\n",
    "#             my_arr[left_index] = my_arr[right_index]\n",
    "#             my_arr[right_index] = temporary_start\n",
    "#             # elif left_pointer != right_pointer:\n",
    "#             #    return quicksort(my_arr)\n",
    "# if __name__ == '__main__':\n",
    "#     array = [12, 11, 15, 10, 9, 1, 2, 3, 13, 14, 4, 5, 6, 7, 8]\n",
    "#     quicksort(array, 0, len(array) - 1)\n",
    "#     print(array)\n",
    "\n",
    "\n",
    "array = [5,6,0,1,5,6,3]\n",
    "def quicksort(array):\n",
    "    if(len(array)==0):\n",
    "        return []\n",
    "    left_elements = []\n",
    "    right_elements = []\n",
    "    pivot = array[-1]\n",
    "    for i in array:\n",
    "        if array[i] < pivot:\n",
    "            left_elements.append(array[i])\n",
    "        elif array[i] > pivot:\n",
    "            right_elements.append(array[i])\n",
    "    return quicksort(left_elements.append(pivot))+quicksort(right_elements)\n",
    "print(quicksort( [5,6,0,1,5,6,3]))"
   ],
   "outputs": [
    {
     "output_type": "error",
     "ename": "TypeError",
     "evalue": "object of type 'NoneType' has no len()",
     "traceback": [
      "\u001b[0;31m---------------------------------------------------------------------------\u001b[0m",
      "\u001b[0;31mTypeError\u001b[0m                                 Traceback (most recent call last)",
      "\u001b[1;32m/home/shamim/Documents/Linkedlist/Sorting/quicksort.py\u001b[0m in \u001b[0;36mline 58\n\u001b[1;32m     <a href='file:///home/shamim/Documents/Linkedlist/Sorting/quicksort.py?line=55'>56</a>\u001b[0m             right_elements\u001b[39m.\u001b[39mappend(array[i])\n\u001b[1;32m     <a href='file:///home/shamim/Documents/Linkedlist/Sorting/quicksort.py?line=56'>57</a>\u001b[0m     \u001b[39mreturn\u001b[39;00m quicksort(left_elements\u001b[39m.\u001b[39mappend(pivot))\u001b[39m+\u001b[39mquicksort(right_elements)\n\u001b[0;32m---> <a href='file:///home/shamim/Documents/Linkedlist/Sorting/quicksort.py?line=57'>58</a>\u001b[0m \u001b[39mprint\u001b[39m(quicksort( [\u001b[39m5\u001b[39;49m,\u001b[39m6\u001b[39;49m,\u001b[39m0\u001b[39;49m,\u001b[39m1\u001b[39;49m,\u001b[39m5\u001b[39;49m,\u001b[39m6\u001b[39;49m,\u001b[39m3\u001b[39;49m]))\n",
      "\u001b[1;32m/home/shamim/Documents/Linkedlist/Sorting/quicksort.py\u001b[0m in \u001b[0;36mline 57\u001b[0m, in \u001b[0;36mquicksort\u001b[0;34m(array)\n\u001b[1;32m     <a href='file:///home/shamim/Documents/Linkedlist/Sorting/quicksort.py?line=54'>55</a>\u001b[0m     \u001b[39melif\u001b[39;00m array[i] \u001b[39m>\u001b[39m pivot:\n\u001b[1;32m     <a href='file:///home/shamim/Documents/Linkedlist/Sorting/quicksort.py?line=55'>56</a>\u001b[0m         right_elements\u001b[39m.\u001b[39mappend(array[i])\n\u001b[0;32m---> <a href='file:///home/shamim/Documents/Linkedlist/Sorting/quicksort.py?line=56'>57</a>\u001b[0m \u001b[39mreturn\u001b[39;00m quicksort(left_elements\u001b[39m.\u001b[39;49mappend(pivot))\u001b[39m+\u001b[39mquicksort(right_elements)\n",
      "\u001b[1;32m/home/shamim/Documents/Linkedlist/Sorting/quicksort.py\u001b[0m in \u001b[0;36mline 47\u001b[0m, in \u001b[0;36mquicksort\u001b[0;34m(array)\n\u001b[1;32m     <a href='file:///home/shamim/Documents/Linkedlist/Sorting/quicksort.py?line=45'>46</a>\u001b[0m \u001b[39mdef\u001b[39;00m \u001b[39mquicksort\u001b[39m(array):\n\u001b[0;32m---> <a href='file:///home/shamim/Documents/Linkedlist/Sorting/quicksort.py?line=46'>47</a>\u001b[0m     \u001b[39mif\u001b[39;00m(\u001b[39mlen\u001b[39;49m(array)\u001b[39m==\u001b[39m\u001b[39m0\u001b[39m):\n\u001b[1;32m     <a href='file:///home/shamim/Documents/Linkedlist/Sorting/quicksort.py?line=47'>48</a>\u001b[0m         \u001b[39mreturn\u001b[39;00m []\n\u001b[1;32m     <a href='file:///home/shamim/Documents/Linkedlist/Sorting/quicksort.py?line=48'>49</a>\u001b[0m     left_elements \u001b[39m=\u001b[39m []\n",
      "\u001b[0;31mTypeError\u001b[0m: object of type 'NoneType' has no len()"
     ]
    }
   ],
   "metadata": {}
  },
  {
   "cell_type": "code",
   "execution_count": 8,
   "source": [
    "# '''Find a “pivot” item in the array.\n",
    "# This item is the basis for comparison for a single round.\n",
    "# Start a pointer (the left pointer) at the first item in the array.\n",
    "# Start a pointer (the right pointer) at the last item in the array.\n",
    "# While the value at the left pointer in the array is less than the pivot value, move the left pointer to the right (add 1). Continue until the value at the left pointer is greater than or equal to the pivot value.\n",
    "# While the value at the right pointer in the array is greater than the pivot value, move the right pointer to the left (subtract 1). Continue until the value at the right pointer is less than or equal to the pivot value.\n",
    "# If the left pointer is less than or equal to the right pointer, then swap the values at these locations in the array.\n",
    "# Move the left pointer to the right by one and the right pointer to the left by one.\n",
    "# If the left pointer and right pointer dont meet, go to step 1.'''\n",
    "\n",
    "\n",
    "# def quicksort(my_array,left_index,right_index):\n",
    "#      if(left_index<right_index):\n",
    "#           #calculate pivot index\n",
    "#           pivot_index = partition(my_array,left_index,right_index)\n",
    "#           #sort left sub_array\n",
    "#           quicksort(my_array,left_index,pivot_index)\n",
    "#           #sort rigth sub_array\n",
    "#           quicksort(my_array,pivot_index+1,right_index)\n",
    "\n",
    "# def partition(my_arr,left_index,right_index):\n",
    "#     pivot_index = (left_index + right_index) /2\n",
    "#     pivot_value = my_arr[int(pivot_index)] #pivot\n",
    "#     # left_index - pointer  at the first item in the array\n",
    "#     # right_index = pointer at the last item in the array.\n",
    "#     while (True):\n",
    "#             while (my_arr[left_index] < pivot_value):# block supposed to be within the loop\n",
    "#                 left_index +=1  #increamenting the index\n",
    "#             while (my_arr[right_index] > pivot_value): #novement backwards\n",
    "#                 right_index -=1\n",
    "#             if (left_index >=right_index):return right_index\n",
    "#                 #Move the left pointer to the right by one and the right pointer to the left by one.\n",
    "#             #swapping time for values at right and left index\n",
    "#             temporary_start = my_arr[left_index]\n",
    "#             my_arr[left_index] = my_arr[right_index]\n",
    "#             my_arr[right_index] = temporary_start\n",
    "#             # elif left_pointer != right_pointer:\n",
    "#             #    return quicksort(my_arr)\n",
    "# if __name__ == '__main__':\n",
    "#     array = [12, 11, 15, 10, 9, 1, 2, 3, 13, 14, 4, 5, 6, 7, 8]\n",
    "#     quicksort(array, 0, len(array) - 1)\n",
    "#     print(array)\n",
    "\n",
    "\n",
    "array = [5,6,0,1,5,6,3]\n",
    "def quicksort(array):\n",
    "    if(len(array)==0):\n",
    "        return []\n",
    "    left_elements = []\n",
    "    right_elements = []\n",
    "    pivot = array[-1]\n",
    "    for i in array:\n",
    "        if array[i] < pivot:\n",
    "            left_elements.append(array[i])\n",
    "        elif array[i] > pivot:\n",
    "            right_elements.append(array[i])\n",
    "    return quicksort(left_elements.append(pivot))+quicksort(right_elements)\n",
    "print(quicksort(array))"
   ],
   "outputs": [
    {
     "output_type": "error",
     "ename": "TypeError",
     "evalue": "object of type 'NoneType' has no len()",
     "traceback": [
      "\u001b[0;31m---------------------------------------------------------------------------\u001b[0m",
      "\u001b[0;31mTypeError\u001b[0m                                 Traceback (most recent call last)",
      "\u001b[1;32m/home/shamim/Documents/Linkedlist/Sorting/quicksort.py\u001b[0m in \u001b[0;36mline 58\n\u001b[1;32m     <a href='file:///home/shamim/Documents/Linkedlist/Sorting/quicksort.py?line=55'>56</a>\u001b[0m             right_elements\u001b[39m.\u001b[39mappend(array[i])\n\u001b[1;32m     <a href='file:///home/shamim/Documents/Linkedlist/Sorting/quicksort.py?line=56'>57</a>\u001b[0m     \u001b[39mreturn\u001b[39;00m quicksort(left_elements\u001b[39m.\u001b[39mappend(pivot))\u001b[39m+\u001b[39mquicksort(right_elements)\n\u001b[0;32m---> <a href='file:///home/shamim/Documents/Linkedlist/Sorting/quicksort.py?line=57'>58</a>\u001b[0m \u001b[39mprint\u001b[39m(quicksort(array))\n",
      "\u001b[1;32m/home/shamim/Documents/Linkedlist/Sorting/quicksort.py\u001b[0m in \u001b[0;36mline 57\u001b[0m, in \u001b[0;36mquicksort\u001b[0;34m(array)\n\u001b[1;32m     <a href='file:///home/shamim/Documents/Linkedlist/Sorting/quicksort.py?line=54'>55</a>\u001b[0m     \u001b[39melif\u001b[39;00m array[i] \u001b[39m>\u001b[39m pivot:\n\u001b[1;32m     <a href='file:///home/shamim/Documents/Linkedlist/Sorting/quicksort.py?line=55'>56</a>\u001b[0m         right_elements\u001b[39m.\u001b[39mappend(array[i])\n\u001b[0;32m---> <a href='file:///home/shamim/Documents/Linkedlist/Sorting/quicksort.py?line=56'>57</a>\u001b[0m \u001b[39mreturn\u001b[39;00m quicksort(left_elements\u001b[39m.\u001b[39;49mappend(pivot))\u001b[39m+\u001b[39mquicksort(right_elements)\n",
      "\u001b[1;32m/home/shamim/Documents/Linkedlist/Sorting/quicksort.py\u001b[0m in \u001b[0;36mline 47\u001b[0m, in \u001b[0;36mquicksort\u001b[0;34m(array)\n\u001b[1;32m     <a href='file:///home/shamim/Documents/Linkedlist/Sorting/quicksort.py?line=45'>46</a>\u001b[0m \u001b[39mdef\u001b[39;00m \u001b[39mquicksort\u001b[39m(array):\n\u001b[0;32m---> <a href='file:///home/shamim/Documents/Linkedlist/Sorting/quicksort.py?line=46'>47</a>\u001b[0m     \u001b[39mif\u001b[39;00m(\u001b[39mlen\u001b[39;49m(array)\u001b[39m==\u001b[39m\u001b[39m0\u001b[39m):\n\u001b[1;32m     <a href='file:///home/shamim/Documents/Linkedlist/Sorting/quicksort.py?line=47'>48</a>\u001b[0m         \u001b[39mreturn\u001b[39;00m []\n\u001b[1;32m     <a href='file:///home/shamim/Documents/Linkedlist/Sorting/quicksort.py?line=48'>49</a>\u001b[0m     left_elements \u001b[39m=\u001b[39m []\n",
      "\u001b[0;31mTypeError\u001b[0m: object of type 'NoneType' has no len()"
     ]
    }
   ],
   "metadata": {}
  },
  {
   "cell_type": "code",
   "execution_count": 9,
   "source": [
    "# global array\n",
    "array = [5,6,0,1,5,6,3]\n",
    "def quicksort(array):\n",
    "    if(len(array)==0):\n",
    "        return []\n",
    "    left_elements = []\n",
    "    right_elements = []\n",
    "    pivot = array[-1]\n",
    "    for i in array:\n",
    "        if array[i] < pivot:\n",
    "            left_elements.append(array[i])\n",
    "        elif array[i] > pivot:\n",
    "            right_elements.append(array[i])\n",
    "    return quicksort(left_elements)+quicksort(pivot,right_elements)\n",
    "print(quicksort( [5,6,0,1,5,6,3]))\n",
    ""
   ],
   "outputs": [
    {
     "output_type": "error",
     "ename": "IndexError",
     "evalue": "list index out of range",
     "traceback": [
      "\u001b[0;31m---------------------------------------------------------------------------\u001b[0m",
      "\u001b[0;31mIndexError\u001b[0m                                Traceback (most recent call last)",
      "Cell \u001b[0;32mIn[9], line 15\u001b[0m\n\u001b[1;32m     13\u001b[0m             right_elements\u001b[39m.\u001b[39mappend(array[i])\n\u001b[1;32m     14\u001b[0m     \u001b[39mreturn\u001b[39;00m quicksort(left_elements)\u001b[39m+\u001b[39mquicksort(pivot,right_elements)\n\u001b[0;32m---> 15\u001b[0m \u001b[39mprint\u001b[39m(quicksort( [\u001b[39m5\u001b[39;49m,\u001b[39m6\u001b[39;49m,\u001b[39m0\u001b[39;49m,\u001b[39m1\u001b[39;49m,\u001b[39m5\u001b[39;49m,\u001b[39m6\u001b[39;49m,\u001b[39m3\u001b[39;49m]))\n",
      "Cell \u001b[0;32mIn[9], line 14\u001b[0m, in \u001b[0;36mquicksort\u001b[0;34m(array)\u001b[0m\n\u001b[1;32m     12\u001b[0m     \u001b[39melif\u001b[39;00m array[i] \u001b[39m>\u001b[39m pivot:\n\u001b[1;32m     13\u001b[0m         right_elements\u001b[39m.\u001b[39mappend(array[i])\n\u001b[0;32m---> 14\u001b[0m \u001b[39mreturn\u001b[39;00m quicksort(left_elements)\u001b[39m+\u001b[39mquicksort(pivot,right_elements)\n",
      "Cell \u001b[0;32mIn[9], line 10\u001b[0m, in \u001b[0;36mquicksort\u001b[0;34m(array)\u001b[0m\n\u001b[1;32m      8\u001b[0m pivot \u001b[39m=\u001b[39m array[\u001b[39m-\u001b[39m\u001b[39m1\u001b[39m]\n\u001b[1;32m      9\u001b[0m \u001b[39mfor\u001b[39;00m i \u001b[39min\u001b[39;00m array:\n\u001b[0;32m---> 10\u001b[0m     \u001b[39mif\u001b[39;00m array[i] \u001b[39m<\u001b[39m pivot:\n\u001b[1;32m     11\u001b[0m         left_elements\u001b[39m.\u001b[39mappend(array[i])\n\u001b[1;32m     12\u001b[0m     \u001b[39melif\u001b[39;00m array[i] \u001b[39m>\u001b[39m pivot:\n",
      "\u001b[0;31mIndexError\u001b[0m: list index out of range"
     ]
    }
   ],
   "metadata": {}
  },
  {
   "cell_type": "code",
   "execution_count": 10,
   "source": [
    "# global array\n",
    "array = [5,6,0,1,5,6,3]\n",
    "def quicksort(array):\n",
    "    if(len(array)==0):\n",
    "        return []\n",
    "    left_elements = []\n",
    "    right_elements = []\n",
    "    pivot = array[-1]\n",
    "    for i in array:\n",
    "        if array[i] < pivot:\n",
    "            left_elements.append(array[i])\n",
    "        elif array[i] > pivot:\n",
    "            right_elements.append(array[i])\n",
    "    return quicksort(left_elements)+quicksort(pivot,right_elements)\n",
    "print(quicksort( [5,6,0,1,5,6,3]))\n",
    ""
   ],
   "outputs": [
    {
     "output_type": "error",
     "ename": "IndexError",
     "evalue": "list index out of range",
     "traceback": [
      "\u001b[0;31m---------------------------------------------------------------------------\u001b[0m",
      "\u001b[0;31mIndexError\u001b[0m                                Traceback (most recent call last)",
      "Cell \u001b[0;32mIn[10], line 15\u001b[0m\n\u001b[1;32m     13\u001b[0m             right_elements\u001b[39m.\u001b[39mappend(array[i])\n\u001b[1;32m     14\u001b[0m     \u001b[39mreturn\u001b[39;00m quicksort(left_elements)\u001b[39m+\u001b[39mquicksort(pivot,right_elements)\n\u001b[0;32m---> 15\u001b[0m \u001b[39mprint\u001b[39m(quicksort( [\u001b[39m5\u001b[39;49m,\u001b[39m6\u001b[39;49m,\u001b[39m0\u001b[39;49m,\u001b[39m1\u001b[39;49m,\u001b[39m5\u001b[39;49m,\u001b[39m6\u001b[39;49m,\u001b[39m3\u001b[39;49m]))\n",
      "Cell \u001b[0;32mIn[10], line 14\u001b[0m, in \u001b[0;36mquicksort\u001b[0;34m(array)\u001b[0m\n\u001b[1;32m     12\u001b[0m     \u001b[39melif\u001b[39;00m array[i] \u001b[39m>\u001b[39m pivot:\n\u001b[1;32m     13\u001b[0m         right_elements\u001b[39m.\u001b[39mappend(array[i])\n\u001b[0;32m---> 14\u001b[0m \u001b[39mreturn\u001b[39;00m quicksort(left_elements)\u001b[39m+\u001b[39mquicksort(pivot,right_elements)\n",
      "Cell \u001b[0;32mIn[10], line 10\u001b[0m, in \u001b[0;36mquicksort\u001b[0;34m(array)\u001b[0m\n\u001b[1;32m      8\u001b[0m pivot \u001b[39m=\u001b[39m array[\u001b[39m-\u001b[39m\u001b[39m1\u001b[39m]\n\u001b[1;32m      9\u001b[0m \u001b[39mfor\u001b[39;00m i \u001b[39min\u001b[39;00m array:\n\u001b[0;32m---> 10\u001b[0m     \u001b[39mif\u001b[39;00m array[i] \u001b[39m<\u001b[39m pivot:\n\u001b[1;32m     11\u001b[0m         left_elements\u001b[39m.\u001b[39mappend(array[i])\n\u001b[1;32m     12\u001b[0m     \u001b[39melif\u001b[39;00m array[i] \u001b[39m>\u001b[39m pivot:\n",
      "\u001b[0;31mIndexError\u001b[0m: list index out of range"
     ]
    }
   ],
   "metadata": {}
  },
  {
   "cell_type": "code",
   "execution_count": 11,
   "source": [
    "# global array\n",
    "array = [5,6,0,1,5,6,3]\n",
    "def quicksort(array):\n",
    "    if(len(array)==0):\n",
    "        return []\n",
    "    left_elements = []\n",
    "    right_elements = []\n",
    "    pivot = array[-1]\n",
    "    for i in array:\n",
    "        if array[i] < pivot:\n",
    "            left_elements.append(array[i])\n",
    "        elif array[i] > pivot:\n",
    "            right_elements.append(array[i])\n",
    "    return quicksort(left_elements)+pivot+quicksort(right_elements)\n",
    "print(quicksort(array))\n",
    ""
   ],
   "outputs": [
    {
     "output_type": "error",
     "ename": "IndexError",
     "evalue": "list index out of range",
     "traceback": [
      "\u001b[0;31m---------------------------------------------------------------------------\u001b[0m",
      "\u001b[0;31mIndexError\u001b[0m                                Traceback (most recent call last)",
      "Cell \u001b[0;32mIn[11], line 15\u001b[0m\n\u001b[1;32m     13\u001b[0m             right_elements\u001b[39m.\u001b[39mappend(array[i])\n\u001b[1;32m     14\u001b[0m     \u001b[39mreturn\u001b[39;00m quicksort(left_elements)\u001b[39m+\u001b[39mpivot\u001b[39m+\u001b[39mquicksort(right_elements)\n\u001b[0;32m---> 15\u001b[0m \u001b[39mprint\u001b[39m(quicksort(array))\n",
      "Cell \u001b[0;32mIn[11], line 14\u001b[0m, in \u001b[0;36mquicksort\u001b[0;34m(array)\u001b[0m\n\u001b[1;32m     12\u001b[0m     \u001b[39melif\u001b[39;00m array[i] \u001b[39m>\u001b[39m pivot:\n\u001b[1;32m     13\u001b[0m         right_elements\u001b[39m.\u001b[39mappend(array[i])\n\u001b[0;32m---> 14\u001b[0m \u001b[39mreturn\u001b[39;00m quicksort(left_elements)\u001b[39m+\u001b[39mpivot\u001b[39m+\u001b[39mquicksort(right_elements)\n",
      "Cell \u001b[0;32mIn[11], line 10\u001b[0m, in \u001b[0;36mquicksort\u001b[0;34m(array)\u001b[0m\n\u001b[1;32m      8\u001b[0m pivot \u001b[39m=\u001b[39m array[\u001b[39m-\u001b[39m\u001b[39m1\u001b[39m]\n\u001b[1;32m      9\u001b[0m \u001b[39mfor\u001b[39;00m i \u001b[39min\u001b[39;00m array:\n\u001b[0;32m---> 10\u001b[0m     \u001b[39mif\u001b[39;00m array[i] \u001b[39m<\u001b[39m pivot:\n\u001b[1;32m     11\u001b[0m         left_elements\u001b[39m.\u001b[39mappend(array[i])\n\u001b[1;32m     12\u001b[0m     \u001b[39melif\u001b[39;00m array[i] \u001b[39m>\u001b[39m pivot:\n",
      "\u001b[0;31mIndexError\u001b[0m: list index out of range"
     ]
    }
   ],
   "metadata": {}
  },
  {
   "cell_type": "code",
   "execution_count": 12,
   "source": [
    "# global array\n",
    "array = [5,6,0,1,5,6,3]\n",
    "def quicksort(array):\n",
    "    if(len(array)==0):\n",
    "        return []\n",
    "    left_elements = []\n",
    "    right_elements = []\n",
    "    pivot = array[-1]\n",
    "    for i in array:\n",
    "        if array[i] < pivot:\n",
    "            left_elements.append(array[i])\n",
    "        elif array[i] > pivot:\n",
    "            right_elements.append(array[i])\n",
    "    return quicksort(left_elements)+pivot+quicksort(right_elements)\n",
    "print(quicksort([5,6,0,1,5,6,3]))\n",
    ""
   ],
   "outputs": [
    {
     "output_type": "error",
     "ename": "IndexError",
     "evalue": "list index out of range",
     "traceback": [
      "\u001b[0;31m---------------------------------------------------------------------------\u001b[0m",
      "\u001b[0;31mIndexError\u001b[0m                                Traceback (most recent call last)",
      "Cell \u001b[0;32mIn[12], line 15\u001b[0m\n\u001b[1;32m     13\u001b[0m             right_elements\u001b[39m.\u001b[39mappend(array[i])\n\u001b[1;32m     14\u001b[0m     \u001b[39mreturn\u001b[39;00m quicksort(left_elements)\u001b[39m+\u001b[39mpivot\u001b[39m+\u001b[39mquicksort(right_elements)\n\u001b[0;32m---> 15\u001b[0m \u001b[39mprint\u001b[39m(quicksort([\u001b[39m5\u001b[39;49m,\u001b[39m6\u001b[39;49m,\u001b[39m0\u001b[39;49m,\u001b[39m1\u001b[39;49m,\u001b[39m5\u001b[39;49m,\u001b[39m6\u001b[39;49m,\u001b[39m3\u001b[39;49m]))\n",
      "Cell \u001b[0;32mIn[12], line 14\u001b[0m, in \u001b[0;36mquicksort\u001b[0;34m(array)\u001b[0m\n\u001b[1;32m     12\u001b[0m     \u001b[39melif\u001b[39;00m array[i] \u001b[39m>\u001b[39m pivot:\n\u001b[1;32m     13\u001b[0m         right_elements\u001b[39m.\u001b[39mappend(array[i])\n\u001b[0;32m---> 14\u001b[0m \u001b[39mreturn\u001b[39;00m quicksort(left_elements)\u001b[39m+\u001b[39mpivot\u001b[39m+\u001b[39mquicksort(right_elements)\n",
      "Cell \u001b[0;32mIn[12], line 10\u001b[0m, in \u001b[0;36mquicksort\u001b[0;34m(array)\u001b[0m\n\u001b[1;32m      8\u001b[0m pivot \u001b[39m=\u001b[39m array[\u001b[39m-\u001b[39m\u001b[39m1\u001b[39m]\n\u001b[1;32m      9\u001b[0m \u001b[39mfor\u001b[39;00m i \u001b[39min\u001b[39;00m array:\n\u001b[0;32m---> 10\u001b[0m     \u001b[39mif\u001b[39;00m array[i] \u001b[39m<\u001b[39m pivot:\n\u001b[1;32m     11\u001b[0m         left_elements\u001b[39m.\u001b[39mappend(array[i])\n\u001b[1;32m     12\u001b[0m     \u001b[39melif\u001b[39;00m array[i] \u001b[39m>\u001b[39m pivot:\n",
      "\u001b[0;31mIndexError\u001b[0m: list index out of range"
     ]
    }
   ],
   "metadata": {}
  },
  {
   "cell_type": "code",
   "execution_count": 13,
   "source": [
    "# global array\n",
    "array = [5,6,0,1,5,6,3]\n",
    "def quicksort(array):\n",
    "    if(len(array)==0):\n",
    "        return []\n",
    "    left_elements = []\n",
    "    right_elements = []\n",
    "    pivot = array[-1]\n",
    "    for i in array:\n",
    "        if array[i] < pivot:\n",
    "            left_elements.append(array[i])\n",
    "        elif array[i] > pivot:\n",
    "            right_elements.append(array[i])\n",
    "    return quicksort(left_elements)+(pivot,quicksort(right_elements))\n",
    "print(quicksort([5,6,0,1,5,6,3]))\n",
    ""
   ],
   "outputs": [
    {
     "output_type": "error",
     "ename": "IndexError",
     "evalue": "list index out of range",
     "traceback": [
      "\u001b[0;31m---------------------------------------------------------------------------\u001b[0m",
      "\u001b[0;31mIndexError\u001b[0m                                Traceback (most recent call last)",
      "Cell \u001b[0;32mIn[13], line 15\u001b[0m\n\u001b[1;32m     13\u001b[0m             right_elements\u001b[39m.\u001b[39mappend(array[i])\n\u001b[1;32m     14\u001b[0m     \u001b[39mreturn\u001b[39;00m quicksort(left_elements)\u001b[39m+\u001b[39m(pivot,quicksort(right_elements))\n\u001b[0;32m---> 15\u001b[0m \u001b[39mprint\u001b[39m(quicksort([\u001b[39m5\u001b[39;49m,\u001b[39m6\u001b[39;49m,\u001b[39m0\u001b[39;49m,\u001b[39m1\u001b[39;49m,\u001b[39m5\u001b[39;49m,\u001b[39m6\u001b[39;49m,\u001b[39m3\u001b[39;49m]))\n",
      "Cell \u001b[0;32mIn[13], line 14\u001b[0m, in \u001b[0;36mquicksort\u001b[0;34m(array)\u001b[0m\n\u001b[1;32m     12\u001b[0m     \u001b[39melif\u001b[39;00m array[i] \u001b[39m>\u001b[39m pivot:\n\u001b[1;32m     13\u001b[0m         right_elements\u001b[39m.\u001b[39mappend(array[i])\n\u001b[0;32m---> 14\u001b[0m \u001b[39mreturn\u001b[39;00m quicksort(left_elements)\u001b[39m+\u001b[39m(pivot,quicksort(right_elements))\n",
      "Cell \u001b[0;32mIn[13], line 10\u001b[0m, in \u001b[0;36mquicksort\u001b[0;34m(array)\u001b[0m\n\u001b[1;32m      8\u001b[0m pivot \u001b[39m=\u001b[39m array[\u001b[39m-\u001b[39m\u001b[39m1\u001b[39m]\n\u001b[1;32m      9\u001b[0m \u001b[39mfor\u001b[39;00m i \u001b[39min\u001b[39;00m array:\n\u001b[0;32m---> 10\u001b[0m     \u001b[39mif\u001b[39;00m array[i] \u001b[39m<\u001b[39m pivot:\n\u001b[1;32m     11\u001b[0m         left_elements\u001b[39m.\u001b[39mappend(array[i])\n\u001b[1;32m     12\u001b[0m     \u001b[39melif\u001b[39;00m array[i] \u001b[39m>\u001b[39m pivot:\n",
      "\u001b[0;31mIndexError\u001b[0m: list index out of range"
     ]
    }
   ],
   "metadata": {}
  },
  {
   "cell_type": "code",
   "execution_count": 14,
   "source": [
    "# global array\n",
    "array = [5,6,0,1,5,6,3]\n",
    "def quicksort(array):\n",
    "    if(len(array)==0):\n",
    "        return []\n",
    "    left_elements = []\n",
    "    right_elements = []\n",
    "    pivot = array[-1]\n",
    "    for i in array:\n",
    "        if array[i] < pivot:\n",
    "            left_elements.append(array[i])\n",
    "        elif array[i] > pivot:\n",
    "            right_elements.append(array[i])\n",
    "    return quicksort(left_elements)+(pivot,quicksort(right_elements))\n",
    "print(quicksort(array))\n",
    ""
   ],
   "outputs": [
    {
     "output_type": "error",
     "ename": "IndexError",
     "evalue": "list index out of range",
     "traceback": [
      "\u001b[0;31m---------------------------------------------------------------------------\u001b[0m",
      "\u001b[0;31mIndexError\u001b[0m                                Traceback (most recent call last)",
      "Cell \u001b[0;32mIn[14], line 15\u001b[0m\n\u001b[1;32m     13\u001b[0m             right_elements\u001b[39m.\u001b[39mappend(array[i])\n\u001b[1;32m     14\u001b[0m     \u001b[39mreturn\u001b[39;00m quicksort(left_elements)\u001b[39m+\u001b[39m(pivot,quicksort(right_elements))\n\u001b[0;32m---> 15\u001b[0m \u001b[39mprint\u001b[39m(quicksort(array))\n",
      "Cell \u001b[0;32mIn[14], line 14\u001b[0m, in \u001b[0;36mquicksort\u001b[0;34m(array)\u001b[0m\n\u001b[1;32m     12\u001b[0m     \u001b[39melif\u001b[39;00m array[i] \u001b[39m>\u001b[39m pivot:\n\u001b[1;32m     13\u001b[0m         right_elements\u001b[39m.\u001b[39mappend(array[i])\n\u001b[0;32m---> 14\u001b[0m \u001b[39mreturn\u001b[39;00m quicksort(left_elements)\u001b[39m+\u001b[39m(pivot,quicksort(right_elements))\n",
      "Cell \u001b[0;32mIn[14], line 10\u001b[0m, in \u001b[0;36mquicksort\u001b[0;34m(array)\u001b[0m\n\u001b[1;32m      8\u001b[0m pivot \u001b[39m=\u001b[39m array[\u001b[39m-\u001b[39m\u001b[39m1\u001b[39m]\n\u001b[1;32m      9\u001b[0m \u001b[39mfor\u001b[39;00m i \u001b[39min\u001b[39;00m array:\n\u001b[0;32m---> 10\u001b[0m     \u001b[39mif\u001b[39;00m array[i] \u001b[39m<\u001b[39m pivot:\n\u001b[1;32m     11\u001b[0m         left_elements\u001b[39m.\u001b[39mappend(array[i])\n\u001b[1;32m     12\u001b[0m     \u001b[39melif\u001b[39;00m array[i] \u001b[39m>\u001b[39m pivot:\n",
      "\u001b[0;31mIndexError\u001b[0m: list index out of range"
     ]
    }
   ],
   "metadata": {}
  },
  {
   "cell_type": "code",
   "execution_count": 15,
   "source": [
    "# global array\n",
    "array = [5,6,0,1,5,6,3]\n",
    "def quicksort(array):\n",
    "    if(len(array)==0):\n",
    "        return []\n",
    "    left_elements = []\n",
    "    right_elements = []\n",
    "    pivot = array[-1]\n",
    "    for i in array:\n",
    "        if array[i] < pivot:\n",
    "            left_elements.append(array[i])\n",
    "        elif array[i] > pivot:\n",
    "            right_elements.append(array[i])\n",
    "    return quicksort(left_elements)+(pivot,quicksort(right_elements))\n",
    "print(quicksort(array))\n",
    ""
   ],
   "outputs": [
    {
     "output_type": "error",
     "ename": "IndexError",
     "evalue": "list index out of range",
     "traceback": [
      "\u001b[0;31m---------------------------------------------------------------------------\u001b[0m",
      "\u001b[0;31mIndexError\u001b[0m                                Traceback (most recent call last)",
      "Cell \u001b[0;32mIn[15], line 15\u001b[0m\n\u001b[1;32m     13\u001b[0m             right_elements\u001b[39m.\u001b[39mappend(array[i])\n\u001b[1;32m     14\u001b[0m     \u001b[39mreturn\u001b[39;00m quicksort(left_elements)\u001b[39m+\u001b[39m(pivot,quicksort(right_elements))\n\u001b[0;32m---> 15\u001b[0m \u001b[39mprint\u001b[39m(quicksort(array))\n",
      "Cell \u001b[0;32mIn[15], line 14\u001b[0m, in \u001b[0;36mquicksort\u001b[0;34m(array)\u001b[0m\n\u001b[1;32m     12\u001b[0m     \u001b[39melif\u001b[39;00m array[i] \u001b[39m>\u001b[39m pivot:\n\u001b[1;32m     13\u001b[0m         right_elements\u001b[39m.\u001b[39mappend(array[i])\n\u001b[0;32m---> 14\u001b[0m \u001b[39mreturn\u001b[39;00m quicksort(left_elements)\u001b[39m+\u001b[39m(pivot,quicksort(right_elements))\n",
      "Cell \u001b[0;32mIn[15], line 10\u001b[0m, in \u001b[0;36mquicksort\u001b[0;34m(array)\u001b[0m\n\u001b[1;32m      8\u001b[0m pivot \u001b[39m=\u001b[39m array[\u001b[39m-\u001b[39m\u001b[39m1\u001b[39m]\n\u001b[1;32m      9\u001b[0m \u001b[39mfor\u001b[39;00m i \u001b[39min\u001b[39;00m array:\n\u001b[0;32m---> 10\u001b[0m     \u001b[39mif\u001b[39;00m array[i] \u001b[39m<\u001b[39m pivot:\n\u001b[1;32m     11\u001b[0m         left_elements\u001b[39m.\u001b[39mappend(array[i])\n\u001b[1;32m     12\u001b[0m     \u001b[39melif\u001b[39;00m array[i] \u001b[39m>\u001b[39m pivot:\n",
      "\u001b[0;31mIndexError\u001b[0m: list index out of range"
     ]
    }
   ],
   "metadata": {}
  },
  {
   "cell_type": "code",
   "execution_count": 16,
   "source": [
    "# global array\n",
    "array = [5,6,0,1,5,6,3]\n",
    "def quicksort(array):\n",
    "    if(len(array)==0):\n",
    "        return []\n",
    "    left_elements = []\n",
    "    right_elements = []\n",
    "    pivot = array[0]\n",
    "    \n",
    "    for i in array:\n",
    "        if array[i] < pivot:\n",
    "            left_elements.append(array[i])\n",
    "        elif array[i] > pivot:\n",
    "            right_elements.append(array[i])\n",
    "    return quicksort(left_elements)+(pivot,quicksort(right_elements))\n",
    "print(quicksort(array))\n",
    ""
   ],
   "outputs": [
    {
     "output_type": "error",
     "ename": "IndexError",
     "evalue": "list index out of range",
     "traceback": [
      "\u001b[0;31m---------------------------------------------------------------------------\u001b[0m",
      "\u001b[0;31mIndexError\u001b[0m                                Traceback (most recent call last)",
      "Cell \u001b[0;32mIn[16], line 16\u001b[0m\n\u001b[1;32m     14\u001b[0m             right_elements\u001b[39m.\u001b[39mappend(array[i])\n\u001b[1;32m     15\u001b[0m     \u001b[39mreturn\u001b[39;00m quicksort(left_elements)\u001b[39m+\u001b[39m(pivot,quicksort(right_elements))\n\u001b[0;32m---> 16\u001b[0m \u001b[39mprint\u001b[39m(quicksort(array))\n",
      "Cell \u001b[0;32mIn[16], line 15\u001b[0m, in \u001b[0;36mquicksort\u001b[0;34m(array)\u001b[0m\n\u001b[1;32m     13\u001b[0m     \u001b[39melif\u001b[39;00m array[i] \u001b[39m>\u001b[39m pivot:\n\u001b[1;32m     14\u001b[0m         right_elements\u001b[39m.\u001b[39mappend(array[i])\n\u001b[0;32m---> 15\u001b[0m \u001b[39mreturn\u001b[39;00m quicksort(left_elements)\u001b[39m+\u001b[39m(pivot,quicksort(right_elements))\n",
      "Cell \u001b[0;32mIn[16], line 11\u001b[0m, in \u001b[0;36mquicksort\u001b[0;34m(array)\u001b[0m\n\u001b[1;32m      8\u001b[0m pivot \u001b[39m=\u001b[39m array[\u001b[39m0\u001b[39m]\n\u001b[1;32m     10\u001b[0m \u001b[39mfor\u001b[39;00m i \u001b[39min\u001b[39;00m array:\n\u001b[0;32m---> 11\u001b[0m     \u001b[39mif\u001b[39;00m array[i] \u001b[39m<\u001b[39m pivot:\n\u001b[1;32m     12\u001b[0m         left_elements\u001b[39m.\u001b[39mappend(array[i])\n\u001b[1;32m     13\u001b[0m     \u001b[39melif\u001b[39;00m array[i] \u001b[39m>\u001b[39m pivot:\n",
      "\u001b[0;31mIndexError\u001b[0m: list index out of range"
     ]
    }
   ],
   "metadata": {}
  },
  {
   "cell_type": "code",
   "execution_count": 17,
   "source": [
    "# global array\n",
    "array = [5,6,0,1,5,6,3]\n",
    "def quicksort(array):\n",
    "    if(len(array)==0):\n",
    "        return []\n",
    "    left_elements = []\n",
    "    right_elements = []\n",
    "    pivot = array[-1]\n",
    "    print(array)\n",
    "    \n",
    "    for i in array:\n",
    "        if array[i] < pivot:\n",
    "            left_elements.append(array[i])\n",
    "        elif array[i] > pivot:\n",
    "            right_elements.append(array[i])\n",
    "    return quicksort(left_elements)+(pivot,quicksort(right_elements))\n",
    "print(quicksort(array))\n",
    ""
   ],
   "outputs": [
    {
     "output_type": "stream",
     "name": "stdout",
     "text": [
      "[5, 6, 0, 1, 5, 6, 3]\n",
      "[1]\n"
     ]
    },
    {
     "output_type": "error",
     "ename": "IndexError",
     "evalue": "list index out of range",
     "traceback": [
      "\u001b[0;31m---------------------------------------------------------------------------\u001b[0m",
      "\u001b[0;31mIndexError\u001b[0m                                Traceback (most recent call last)",
      "Cell \u001b[0;32mIn[17], line 17\u001b[0m\n\u001b[1;32m     15\u001b[0m             right_elements\u001b[39m.\u001b[39mappend(array[i])\n\u001b[1;32m     16\u001b[0m     \u001b[39mreturn\u001b[39;00m quicksort(left_elements)\u001b[39m+\u001b[39m(pivot,quicksort(right_elements))\n\u001b[0;32m---> 17\u001b[0m \u001b[39mprint\u001b[39m(quicksort(array))\n",
      "Cell \u001b[0;32mIn[17], line 16\u001b[0m, in \u001b[0;36mquicksort\u001b[0;34m(array)\u001b[0m\n\u001b[1;32m     14\u001b[0m     \u001b[39melif\u001b[39;00m array[i] \u001b[39m>\u001b[39m pivot:\n\u001b[1;32m     15\u001b[0m         right_elements\u001b[39m.\u001b[39mappend(array[i])\n\u001b[0;32m---> 16\u001b[0m \u001b[39mreturn\u001b[39;00m quicksort(left_elements)\u001b[39m+\u001b[39m(pivot,quicksort(right_elements))\n",
      "Cell \u001b[0;32mIn[17], line 12\u001b[0m, in \u001b[0;36mquicksort\u001b[0;34m(array)\u001b[0m\n\u001b[1;32m      9\u001b[0m \u001b[39mprint\u001b[39m(array)\n\u001b[1;32m     11\u001b[0m \u001b[39mfor\u001b[39;00m i \u001b[39min\u001b[39;00m array:\n\u001b[0;32m---> 12\u001b[0m     \u001b[39mif\u001b[39;00m array[i] \u001b[39m<\u001b[39m pivot:\n\u001b[1;32m     13\u001b[0m         left_elements\u001b[39m.\u001b[39mappend(array[i])\n\u001b[1;32m     14\u001b[0m     \u001b[39melif\u001b[39;00m array[i] \u001b[39m>\u001b[39m pivot:\n",
      "\u001b[0;31mIndexError\u001b[0m: list index out of range"
     ]
    }
   ],
   "metadata": {}
  },
  {
   "cell_type": "code",
   "execution_count": 18,
   "source": [
    "# global array\n",
    "array = [5,6,0,1,5,6,3]\n",
    "def quicksort(array):\n",
    "    if(len(array)==0):\n",
    "        return []\n",
    "    left_elements = []\n",
    "    right_elements = []\n",
    "    pivot = array[0]\n",
    "    print(array)\n",
    "    \n",
    "    for i in array:\n",
    "        if array[i] < pivot:\n",
    "            left_elements.append(array[i])\n",
    "        elif array[i] > pivot:\n",
    "            right_elements.append(array[i])\n",
    "    return quicksort(left_elements)+(pivot,quicksort(right_elements))\n",
    "print(quicksort(array))\n",
    ""
   ],
   "outputs": [
    {
     "output_type": "stream",
     "name": "stdout",
     "text": [
      "[5, 6, 0, 1, 5, 6, 3]\n",
      "[3, 3, 1]\n"
     ]
    },
    {
     "output_type": "error",
     "ename": "IndexError",
     "evalue": "list index out of range",
     "traceback": [
      "\u001b[0;31m---------------------------------------------------------------------------\u001b[0m",
      "\u001b[0;31mIndexError\u001b[0m                                Traceback (most recent call last)",
      "Cell \u001b[0;32mIn[18], line 17\u001b[0m\n\u001b[1;32m     15\u001b[0m             right_elements\u001b[39m.\u001b[39mappend(array[i])\n\u001b[1;32m     16\u001b[0m     \u001b[39mreturn\u001b[39;00m quicksort(left_elements)\u001b[39m+\u001b[39m(pivot,quicksort(right_elements))\n\u001b[0;32m---> 17\u001b[0m \u001b[39mprint\u001b[39m(quicksort(array))\n",
      "Cell \u001b[0;32mIn[18], line 16\u001b[0m, in \u001b[0;36mquicksort\u001b[0;34m(array)\u001b[0m\n\u001b[1;32m     14\u001b[0m     \u001b[39melif\u001b[39;00m array[i] \u001b[39m>\u001b[39m pivot:\n\u001b[1;32m     15\u001b[0m         right_elements\u001b[39m.\u001b[39mappend(array[i])\n\u001b[0;32m---> 16\u001b[0m \u001b[39mreturn\u001b[39;00m quicksort(left_elements)\u001b[39m+\u001b[39m(pivot,quicksort(right_elements))\n",
      "Cell \u001b[0;32mIn[18], line 12\u001b[0m, in \u001b[0;36mquicksort\u001b[0;34m(array)\u001b[0m\n\u001b[1;32m      9\u001b[0m \u001b[39mprint\u001b[39m(array)\n\u001b[1;32m     11\u001b[0m \u001b[39mfor\u001b[39;00m i \u001b[39min\u001b[39;00m array:\n\u001b[0;32m---> 12\u001b[0m     \u001b[39mif\u001b[39;00m array[i] \u001b[39m<\u001b[39m pivot:\n\u001b[1;32m     13\u001b[0m         left_elements\u001b[39m.\u001b[39mappend(array[i])\n\u001b[1;32m     14\u001b[0m     \u001b[39melif\u001b[39;00m array[i] \u001b[39m>\u001b[39m pivot:\n",
      "\u001b[0;31mIndexError\u001b[0m: list index out of range"
     ]
    }
   ],
   "metadata": {}
  },
  {
   "cell_type": "code",
   "execution_count": 19,
   "source": [
    "# global array\n",
    "array = [5,6,0,1,5,6,3]\n",
    "def quicksort(array):\n",
    "    if(len(array)==0):\n",
    "        return []\n",
    "    left_elements = []\n",
    "    right_elements = []\n",
    "    pivot = array[0]\n",
    "    \n",
    "    for i in array:\n",
    "        print(array)\n",
    "\n",
    "        if array[i] < pivot:\n",
    "            left_elements.append(array[i])\n",
    "        elif array[i] > pivot:\n",
    "            right_elements.append(array[i])\n",
    "    return quicksort(left_elements)+(pivot,quicksort(right_elements))\n",
    "print(quicksort(array))\n",
    ""
   ],
   "outputs": [
    {
     "output_type": "stream",
     "name": "stdout",
     "text": [
      "[5, 6, 0, 1, 5, 6, 3]\n",
      "[5, 6, 0, 1, 5, 6, 3]\n",
      "[5, 6, 0, 1, 5, 6, 3]\n",
      "[5, 6, 0, 1, 5, 6, 3]\n",
      "[5, 6, 0, 1, 5, 6, 3]\n",
      "[5, 6, 0, 1, 5, 6, 3]\n",
      "[5, 6, 0, 1, 5, 6, 3]\n",
      "[3, 3, 1]\n"
     ]
    },
    {
     "output_type": "error",
     "ename": "IndexError",
     "evalue": "list index out of range",
     "traceback": [
      "\u001b[0;31m---------------------------------------------------------------------------\u001b[0m",
      "\u001b[0;31mIndexError\u001b[0m                                Traceback (most recent call last)",
      "Cell \u001b[0;32mIn[19], line 18\u001b[0m\n\u001b[1;32m     16\u001b[0m             right_elements\u001b[39m.\u001b[39mappend(array[i])\n\u001b[1;32m     17\u001b[0m     \u001b[39mreturn\u001b[39;00m quicksort(left_elements)\u001b[39m+\u001b[39m(pivot,quicksort(right_elements))\n\u001b[0;32m---> 18\u001b[0m \u001b[39mprint\u001b[39m(quicksort(array))\n",
      "Cell \u001b[0;32mIn[19], line 17\u001b[0m, in \u001b[0;36mquicksort\u001b[0;34m(array)\u001b[0m\n\u001b[1;32m     15\u001b[0m     \u001b[39melif\u001b[39;00m array[i] \u001b[39m>\u001b[39m pivot:\n\u001b[1;32m     16\u001b[0m         right_elements\u001b[39m.\u001b[39mappend(array[i])\n\u001b[0;32m---> 17\u001b[0m \u001b[39mreturn\u001b[39;00m quicksort(left_elements)\u001b[39m+\u001b[39m(pivot,quicksort(right_elements))\n",
      "Cell \u001b[0;32mIn[19], line 13\u001b[0m, in \u001b[0;36mquicksort\u001b[0;34m(array)\u001b[0m\n\u001b[1;32m     10\u001b[0m \u001b[39mfor\u001b[39;00m i \u001b[39min\u001b[39;00m array:\n\u001b[1;32m     11\u001b[0m     \u001b[39mprint\u001b[39m(array)\n\u001b[0;32m---> 13\u001b[0m     \u001b[39mif\u001b[39;00m array[i] \u001b[39m<\u001b[39m pivot:\n\u001b[1;32m     14\u001b[0m         left_elements\u001b[39m.\u001b[39mappend(array[i])\n\u001b[1;32m     15\u001b[0m     \u001b[39melif\u001b[39;00m array[i] \u001b[39m>\u001b[39m pivot:\n",
      "\u001b[0;31mIndexError\u001b[0m: list index out of range"
     ]
    }
   ],
   "metadata": {}
  },
  {
   "cell_type": "code",
   "execution_count": 20,
   "source": [
    "# global array\n",
    "array = [5,6,0,1,5,6,3]\n",
    "def quicksort(array):\n",
    "    if(len(array)==0):\n",
    "        return []\n",
    "    left_elements = []\n",
    "    right_elements = []\n",
    "    pivot = array[0]\n",
    "    \n",
    "    for i in array:\n",
    "\n",
    "        if i < pivot:\n",
    "            left_elements.append(array[i])\n",
    "        elif i > pivot:\n",
    "            right_elements.append(array[i])\n",
    "    return quicksort(left_elements)+(pivot,quicksort(right_elements))\n",
    "print(quicksort(array))\n",
    ""
   ],
   "outputs": [
    {
     "output_type": "error",
     "ename": "IndexError",
     "evalue": "list index out of range",
     "traceback": [
      "\u001b[0;31m---------------------------------------------------------------------------\u001b[0m",
      "\u001b[0;31mIndexError\u001b[0m                                Traceback (most recent call last)",
      "Cell \u001b[0;32mIn[20], line 17\u001b[0m\n\u001b[1;32m     15\u001b[0m             right_elements\u001b[39m.\u001b[39mappend(array[i])\n\u001b[1;32m     16\u001b[0m     \u001b[39mreturn\u001b[39;00m quicksort(left_elements)\u001b[39m+\u001b[39m(pivot,quicksort(right_elements))\n\u001b[0;32m---> 17\u001b[0m \u001b[39mprint\u001b[39m(quicksort(array))\n",
      "Cell \u001b[0;32mIn[20], line 16\u001b[0m, in \u001b[0;36mquicksort\u001b[0;34m(array)\u001b[0m\n\u001b[1;32m     14\u001b[0m     \u001b[39melif\u001b[39;00m i \u001b[39m>\u001b[39m pivot:\n\u001b[1;32m     15\u001b[0m         right_elements\u001b[39m.\u001b[39mappend(array[i])\n\u001b[0;32m---> 16\u001b[0m \u001b[39mreturn\u001b[39;00m quicksort(left_elements)\u001b[39m+\u001b[39m(pivot,quicksort(right_elements))\n",
      "Cell \u001b[0;32mIn[20], line 15\u001b[0m, in \u001b[0;36mquicksort\u001b[0;34m(array)\u001b[0m\n\u001b[1;32m     13\u001b[0m         left_elements\u001b[39m.\u001b[39mappend(array[i])\n\u001b[1;32m     14\u001b[0m     \u001b[39melif\u001b[39;00m i \u001b[39m>\u001b[39m pivot:\n\u001b[0;32m---> 15\u001b[0m         right_elements\u001b[39m.\u001b[39mappend(array[i])\n\u001b[1;32m     16\u001b[0m \u001b[39mreturn\u001b[39;00m quicksort(left_elements)\u001b[39m+\u001b[39m(pivot,quicksort(right_elements))\n",
      "\u001b[0;31mIndexError\u001b[0m: list index out of range"
     ]
    }
   ],
   "metadata": {}
  },
  {
   "cell_type": "code",
   "execution_count": 21,
   "source": [
    "# global array\n",
    "array = [5,6,0,1,5,6,3]\n",
    "def quicksort(array):\n",
    "    if(len(array)==0):\n",
    "        return []\n",
    "    left_elements = []\n",
    "    right_elements = []\n",
    "    pivot = array[0]\n",
    "    \n",
    "    for i in array:\n",
    "        if i < pivot:\n",
    "            left_elements.append(i)\n",
    "        elif i > pivot:\n",
    "            right_elements.append(i)\n",
    "    return quicksort(left_elements)+(pivot,quicksort(right_elements))\n",
    "print(quicksort(array))\n",
    ""
   ],
   "outputs": [
    {
     "output_type": "error",
     "ename": "TypeError",
     "evalue": "can only concatenate list (not \"tuple\") to list",
     "traceback": [
      "\u001b[0;31m---------------------------------------------------------------------------\u001b[0m",
      "\u001b[0;31mTypeError\u001b[0m                                 Traceback (most recent call last)",
      "Cell \u001b[0;32mIn[21], line 16\u001b[0m\n\u001b[1;32m     14\u001b[0m             right_elements\u001b[39m.\u001b[39mappend(i)\n\u001b[1;32m     15\u001b[0m     \u001b[39mreturn\u001b[39;00m quicksort(left_elements)\u001b[39m+\u001b[39m(pivot,quicksort(right_elements))\n\u001b[0;32m---> 16\u001b[0m \u001b[39mprint\u001b[39m(quicksort(array))\n",
      "Cell \u001b[0;32mIn[21], line 15\u001b[0m, in \u001b[0;36mquicksort\u001b[0;34m(array)\u001b[0m\n\u001b[1;32m     13\u001b[0m     \u001b[39melif\u001b[39;00m i \u001b[39m>\u001b[39m pivot:\n\u001b[1;32m     14\u001b[0m         right_elements\u001b[39m.\u001b[39mappend(i)\n\u001b[0;32m---> 15\u001b[0m \u001b[39mreturn\u001b[39;00m quicksort(left_elements)\u001b[39m+\u001b[39m(pivot,quicksort(right_elements))\n",
      "Cell \u001b[0;32mIn[21], line 15\u001b[0m, in \u001b[0;36mquicksort\u001b[0;34m(array)\u001b[0m\n\u001b[1;32m     13\u001b[0m     \u001b[39melif\u001b[39;00m i \u001b[39m>\u001b[39m pivot:\n\u001b[1;32m     14\u001b[0m         right_elements\u001b[39m.\u001b[39mappend(i)\n\u001b[0;32m---> 15\u001b[0m \u001b[39mreturn\u001b[39;00m quicksort(left_elements)\u001b[39m+\u001b[39m(pivot,quicksort(right_elements))\n",
      "    \u001b[0;31m[... skipping similar frames: quicksort at line 15 (1 times)]\u001b[0m\n",
      "Cell \u001b[0;32mIn[21], line 15\u001b[0m, in \u001b[0;36mquicksort\u001b[0;34m(array)\u001b[0m\n\u001b[1;32m     13\u001b[0m     \u001b[39melif\u001b[39;00m i \u001b[39m>\u001b[39m pivot:\n\u001b[1;32m     14\u001b[0m         right_elements\u001b[39m.\u001b[39mappend(i)\n\u001b[0;32m---> 15\u001b[0m \u001b[39mreturn\u001b[39;00m quicksort(left_elements)\u001b[39m+\u001b[39;49m(pivot,quicksort(right_elements))\n",
      "\u001b[0;31mTypeError\u001b[0m: can only concatenate list (not \"tuple\") to list"
     ]
    }
   ],
   "metadata": {}
  },
  {
   "cell_type": "code",
   "execution_count": 22,
   "source": [
    "# global array\n",
    "array = [5,6,0,1,5,6,3]\n",
    "def quicksort(array):\n",
    "    if(len(array)==0):\n",
    "        return []\n",
    "    left_elements = []\n",
    "    right_elements = []\n",
    "    pivot = array[0]\n",
    "    \n",
    "    for i in array:\n",
    "        if i < pivot:\n",
    "            left_elements.append(i)\n",
    "        elif i > pivot:\n",
    "            right_elements.append(i)\n",
    "    return quicksort(left_elements)+pivot,quicksort(right_elements)\n",
    "print(quicksort(array))\n",
    ""
   ],
   "outputs": [
    {
     "output_type": "error",
     "ename": "TypeError",
     "evalue": "can only concatenate list (not \"int\") to list",
     "traceback": [
      "\u001b[0;31m---------------------------------------------------------------------------\u001b[0m",
      "\u001b[0;31mTypeError\u001b[0m                                 Traceback (most recent call last)",
      "Cell \u001b[0;32mIn[22], line 16\u001b[0m\n\u001b[1;32m     14\u001b[0m             right_elements\u001b[39m.\u001b[39mappend(i)\n\u001b[1;32m     15\u001b[0m     \u001b[39mreturn\u001b[39;00m quicksort(left_elements)\u001b[39m+\u001b[39mpivot,quicksort(right_elements)\n\u001b[0;32m---> 16\u001b[0m \u001b[39mprint\u001b[39m(quicksort(array))\n",
      "Cell \u001b[0;32mIn[22], line 15\u001b[0m, in \u001b[0;36mquicksort\u001b[0;34m(array)\u001b[0m\n\u001b[1;32m     13\u001b[0m     \u001b[39melif\u001b[39;00m i \u001b[39m>\u001b[39m pivot:\n\u001b[1;32m     14\u001b[0m         right_elements\u001b[39m.\u001b[39mappend(i)\n\u001b[0;32m---> 15\u001b[0m \u001b[39mreturn\u001b[39;00m quicksort(left_elements)\u001b[39m+\u001b[39mpivot,quicksort(right_elements)\n",
      "Cell \u001b[0;32mIn[22], line 15\u001b[0m, in \u001b[0;36mquicksort\u001b[0;34m(array)\u001b[0m\n\u001b[1;32m     13\u001b[0m     \u001b[39melif\u001b[39;00m i \u001b[39m>\u001b[39m pivot:\n\u001b[1;32m     14\u001b[0m         right_elements\u001b[39m.\u001b[39mappend(i)\n\u001b[0;32m---> 15\u001b[0m \u001b[39mreturn\u001b[39;00m quicksort(left_elements)\u001b[39m+\u001b[39;49mpivot,quicksort(right_elements)\n",
      "\u001b[0;31mTypeError\u001b[0m: can only concatenate list (not \"int\") to list"
     ]
    }
   ],
   "metadata": {}
  },
  {
   "cell_type": "code",
   "execution_count": 23,
   "source": [
    "# global array\n",
    "array = [5,6,0,1,5,6,3]\n",
    "def quicksort(array):\n",
    "    if(len(array)==0):\n",
    "        return []\n",
    "    left_elements = []\n",
    "    right_elements = []\n",
    "    pivot = array[0]\n",
    "    \n",
    "    for i in array:\n",
    "        if i < pivot:\n",
    "            left_elements.append(i)\n",
    "        elif i > pivot:\n",
    "            right_elements.append(i)\n",
    "    return quicksort(left_elements)+[pivot]+quicksort(right_elements)\n",
    "print(quicksort(array))\n",
    ""
   ],
   "outputs": [
    {
     "output_type": "stream",
     "name": "stdout",
     "text": [
      "[0, 1, 3, 5, 6]\n"
     ]
    }
   ],
   "metadata": {}
  },
  {
   "cell_type": "code",
   "execution_count": 24,
   "source": [
    "# global array\n",
    "array = [5,6,0,1,5,6,3]\n",
    "def quicksort(array):\n",
    "    if(len(array)==0):\n",
    "        return []\n",
    "    left_elements = []\n",
    "    right_elements = []\n",
    "    pivot = array[0]\n",
    "    \n",
    "    for i in array:\n",
    "        if i < pivot:\n",
    "            left_elements.append(i)\n",
    "        elif i > pivot:\n",
    "            right_elements.append(i)\n",
    "    return quicksort(left_elements)+[pivot]+quicksort(right_elements)\n",
    "print(quicksort(array))\n",
    ""
   ],
   "outputs": [
    {
     "output_type": "stream",
     "name": "stdout",
     "text": [
      "[0, 1, 3, 5, 6]\n"
     ]
    }
   ],
   "metadata": {}
  },
  {
   "cell_type": "code",
   "execution_count": 25,
   "source": [
    "# global array\n",
    "array = [5,6,0,1,5,6,3]\n",
    "def quicksort(array):\n",
    "    if(len(array)==0):\n",
    "        return []\n",
    "    left_elements = []\n",
    "    right_elements = []\n",
    "    pivot = array[0]\n",
    "    \n",
    "    for i in array:\n",
    "        if i < pivot:\n",
    "            left_elements.append(i)\n",
    "        elif i > pivot:\n",
    "            right_elements.append(i)\n",
    "    return quicksort(left_elements)+[pivot]+quicksort(right_elements)\n",
    "print(quicksort(array))\n",
    ""
   ],
   "outputs": [
    {
     "output_type": "stream",
     "name": "stdout",
     "text": [
      "[0, 1, 3, 5, 6]\n"
     ]
    }
   ],
   "metadata": {}
  }
 ],
 "nbformat": 4,
 "nbformat_minor": 2,
 "metadata": {
  "language_info": {
   "codemirror_mode": {
    "name": "ipython",
    "version": 3
   },
   "file_extension": ".py",
   "mimetype": "text/x-python",
   "name": "python",
   "nbconvert_exporter": "python",
   "pygments_lexer": "ipython3",
   "version": 3
  },
  "orig_nbformat": 4
 }
}